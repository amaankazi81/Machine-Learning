{
 "cells": [
  {
   "cell_type": "code",
   "execution_count": 1,
   "id": "28c0e3e8",
   "metadata": {},
   "outputs": [
    {
     "name": "stdout",
     "output_type": "stream",
     "text": [
      "Iteration-0\n",
      "[1, 1, 1, 1]\n",
      "w1=1\n",
      "w2=1\n",
      "b=1\n",
      "Iteration-1\n",
      "[1, -1, 1, -1]\n",
      "w1=0\n",
      "w2=2\n",
      "b=0\n",
      "Iteration-2\n",
      "[-1, 1, 1, -1]\n",
      "w1=1\n",
      "w2=1\n",
      "b=-1\n",
      "Iteration-3\n",
      "[-1, -1, 1, -1]\n",
      "w1=2\n",
      "w2=2\n",
      "b=-2\n"
     ]
    }
   ],
   "source": [
    "data = [[1, 1, 1, 1],[1, -1, 1, -1],[-1, 1, 1, -1],[-1, -1, 1, -1]]\n",
    "\n",
    "w1=0\n",
    "w2=0\n",
    "b=0\n",
    "for i in range(4):\n",
    "  w1 = w1+data[i][0]*data[i][3]\n",
    "  w2 = w2+data[i][1]*data[i][3]\n",
    "  b = b+1*data[i][3] # bias is 1 for all inputs\n",
    "\n",
    "  print(\"Iteration-\"+str(i))\n",
    "  print(data[i])\n",
    "  print(\"w1=\"+str(w1))\n",
    "  print(\"w2=\"+str(w2))\n",
    "  print(\"b=\"+str(b))"
   ]
  },
  {
   "cell_type": "code",
   "execution_count": 2,
   "id": "c62b55e0",
   "metadata": {},
   "outputs": [
    {
     "name": "stdout",
     "output_type": "stream",
     "text": [
      "Iteration-0\n",
      "[1, 1, 1]\n",
      "w1=1\n",
      "w2=1\n",
      "b=1\n",
      "Iteration-1\n",
      "[1, -1, 1]\n",
      "w1=2\n",
      "w2=0\n",
      "b=2\n",
      "Iteration-2\n",
      "[-1, 1, 1]\n",
      "w1=1\n",
      "w2=1\n",
      "b=3\n",
      "Iteration-3\n",
      "[-1, -1, -1]\n",
      "w1=2\n",
      "w2=2\n",
      "b=2\n"
     ]
    }
   ],
   "source": [
    "data = [[1, 1, 1], [1, -1, 1], [-1, 1, 1], [-1, -1, -1]]  # OR gate truth table\n",
    "w1 = 0\n",
    "w2 = 0\n",
    "b = 0\n",
    "for i in range(4):\n",
    "    w1 = w1 + data[i][0] * data[i][2]\n",
    "    w2 = w2 + data[i][1] * data[i][2]\n",
    "    b = b + 1 * data[i][2]  # bias is 1 for all inputs\n",
    "    print(\"Iteration-\" + str(i))\n",
    "    print(data[i])\n",
    "    print(\"w1=\" + str(w1))\n",
    "    print(\"w2=\" + str(w2))\n",
    "    print(\"b=\" + str(b))\n"
   ]
  },
  {
   "cell_type": "code",
   "execution_count": null,
   "id": "dd73c4ad",
   "metadata": {},
   "outputs": [],
   "source": []
  }
 ],
 "metadata": {
  "kernelspec": {
   "display_name": "Python 3 (ipykernel)",
   "language": "python",
   "name": "python3"
  },
  "language_info": {
   "codemirror_mode": {
    "name": "ipython",
    "version": 3
   },
   "file_extension": ".py",
   "mimetype": "text/x-python",
   "name": "python",
   "nbconvert_exporter": "python",
   "pygments_lexer": "ipython3",
   "version": "3.11.4"
  }
 },
 "nbformat": 4,
 "nbformat_minor": 5
}
