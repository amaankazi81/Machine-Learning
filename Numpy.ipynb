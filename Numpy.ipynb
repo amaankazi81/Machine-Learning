{
 "cells": [
  {
   "cell_type": "code",
   "execution_count": 1,
   "id": "0838132f",
   "metadata": {},
   "outputs": [],
   "source": [
    "import numpy as np  #importing liabraries"
   ]
  },
  {
   "cell_type": "code",
   "execution_count": 2,
   "id": "2b9c005f",
   "metadata": {},
   "outputs": [],
   "source": [
    "ary =  np.array([2,4,5,2])         #creating array by np.array([])"
   ]
  },
  {
   "cell_type": "code",
   "execution_count": 3,
   "id": "1807b9b2",
   "metadata": {},
   "outputs": [
    {
     "name": "stdout",
     "output_type": "stream",
     "text": [
      "[2 4 5 2]\n"
     ]
    }
   ],
   "source": [
    "print(ary)"
   ]
  },
  {
   "cell_type": "code",
   "execution_count": 4,
   "id": "2ffc84c4",
   "metadata": {},
   "outputs": [],
   "source": [
    "array = np.array([[1,2,3],[2,4,7],[8,6,9]])               #we can create matrix"
   ]
  },
  {
   "cell_type": "code",
   "execution_count": 5,
   "id": "886b400b",
   "metadata": {},
   "outputs": [
    {
     "data": {
      "text/plain": [
       "array([[1, 2, 3],\n",
       "       [2, 4, 7],\n",
       "       [8, 6, 9]])"
      ]
     },
     "execution_count": 5,
     "metadata": {},
     "output_type": "execute_result"
    }
   ],
   "source": [
    "array"
   ]
  },
  {
   "cell_type": "code",
   "execution_count": 6,
   "id": "02e83c53",
   "metadata": {},
   "outputs": [
    {
     "data": {
      "text/plain": [
       "dtype('int32')"
      ]
     },
     "execution_count": 6,
     "metadata": {},
     "output_type": "execute_result"
    }
   ],
   "source": [
    "array.dtype           #shows data type"
   ]
  },
  {
   "cell_type": "code",
   "execution_count": 7,
   "id": "dd8371a5",
   "metadata": {},
   "outputs": [
    {
     "data": {
      "text/plain": [
       "(3, 3)"
      ]
     },
     "execution_count": 7,
     "metadata": {},
     "output_type": "execute_result"
    }
   ],
   "source": [
    "array.shape           #shows shape of array like 3 rows and 3 columns"
   ]
  },
  {
   "cell_type": "code",
   "execution_count": 8,
   "id": "ea0fbba0",
   "metadata": {},
   "outputs": [
    {
     "data": {
      "text/plain": [
       "9"
      ]
     },
     "execution_count": 8,
     "metadata": {},
     "output_type": "execute_result"
    }
   ],
   "source": [
    "array.size            #gives numbers elements in array"
   ]
  },
  {
   "cell_type": "code",
   "execution_count": 15,
   "id": "a7d0b5eb",
   "metadata": {},
   "outputs": [],
   "source": [
    "array[0,1]=5            #can modify the element by - nameofarray[row, column] = value"
   ]
  },
  {
   "cell_type": "code",
   "execution_count": 16,
   "id": "3f428835",
   "metadata": {},
   "outputs": [
    {
     "data": {
      "text/plain": [
       "array([[1, 5, 3],\n",
       "       [2, 4, 7],\n",
       "       [5, 5, 5]])"
      ]
     },
     "execution_count": 16,
     "metadata": {},
     "output_type": "execute_result"
    }
   ],
   "source": [
    "array"
   ]
  },
  {
   "cell_type": "markdown",
   "id": "2de2fb1c",
   "metadata": {},
   "source": [
    "**methods that gives arrays of zeros**"
   ]
  },
  {
   "cell_type": "code",
   "execution_count": 17,
   "id": "0235e164",
   "metadata": {},
   "outputs": [],
   "source": [
    "zeroes  = np.zeros((2,3))"
   ]
  },
  {
   "cell_type": "code",
   "execution_count": 18,
   "id": "b1cc4165",
   "metadata": {},
   "outputs": [
    {
     "data": {
      "text/plain": [
       "array([[0., 0., 0.],\n",
       "       [0., 0., 0.]])"
      ]
     },
     "execution_count": 18,
     "metadata": {},
     "output_type": "execute_result"
    }
   ],
   "source": [
    "zeroes"
   ]
  },
  {
   "cell_type": "markdown",
   "id": "1a4cfd61",
   "metadata": {},
   "source": [
    "**Range Method**"
   ]
  },
  {
   "cell_type": "code",
   "execution_count": 19,
   "id": "ee6da897",
   "metadata": {},
   "outputs": [],
   "source": [
    "rng = np.arange(6)"
   ]
  },
  {
   "cell_type": "code",
   "execution_count": 20,
   "id": "1f59c2a7",
   "metadata": {},
   "outputs": [
    {
     "data": {
      "text/plain": [
       "array([0, 1, 2, 3, 4, 5])"
      ]
     },
     "execution_count": 20,
     "metadata": {},
     "output_type": "execute_result"
    }
   ],
   "source": [
    "rng\n"
   ]
  },
  {
   "cell_type": "markdown",
   "id": "d9e2e4b7",
   "metadata": {},
   "source": [
    "**Linear space method**"
   ]
  },
  {
   "cell_type": "code",
   "execution_count": 21,
   "id": "2fd000d0",
   "metadata": {},
   "outputs": [],
   "source": [
    "lnspace = np.linspace(1,10,5)   #it will make array of 5 elements between 1-10"
   ]
  },
  {
   "cell_type": "code",
   "execution_count": 22,
   "id": "a9d0486e",
   "metadata": {},
   "outputs": [
    {
     "data": {
      "text/plain": [
       "array([ 1.  ,  3.25,  5.5 ,  7.75, 10.  ])"
      ]
     },
     "execution_count": 22,
     "metadata": {},
     "output_type": "execute_result"
    }
   ],
   "source": [
    "lnspace"
   ]
  },
  {
   "cell_type": "markdown",
   "id": "b24e21e6",
   "metadata": {},
   "source": [
    "# some other methods"
   ]
  },
  {
   "cell_type": "code",
   "execution_count": 23,
   "id": "1ff8a6e4",
   "metadata": {},
   "outputs": [],
   "source": [
    "ar = np.arange(50)    #give numbers"
   ]
  },
  {
   "cell_type": "code",
   "execution_count": 24,
   "id": "ae8215c4",
   "metadata": {},
   "outputs": [
    {
     "data": {
      "text/plain": [
       "array([ 0,  1,  2,  3,  4,  5,  6,  7,  8,  9, 10, 11, 12, 13, 14, 15, 16,\n",
       "       17, 18, 19, 20, 21, 22, 23, 24, 25, 26, 27, 28, 29, 30, 31, 32, 33,\n",
       "       34, 35, 36, 37, 38, 39, 40, 41, 42, 43, 44, 45, 46, 47, 48, 49])"
      ]
     },
     "execution_count": 24,
     "metadata": {},
     "output_type": "execute_result"
    }
   ],
   "source": [
    "ar"
   ]
  },
  {
   "cell_type": "code",
   "execution_count": 25,
   "id": "c0420fca",
   "metadata": {},
   "outputs": [],
   "source": [
    "a = ar.reshape(5,10)   #reshape the array in the format [row, column]\n"
   ]
  },
  {
   "cell_type": "code",
   "execution_count": 49,
   "id": "974ce7b4",
   "metadata": {},
   "outputs": [
    {
     "data": {
      "text/plain": [
       "array([[ 0,  1,  2,  3,  4,  5,  6,  7,  8,  9],\n",
       "       [10, 11, 12, 13, 14, 15, 16, 17, 18, 19],\n",
       "       [20, 21, 22, 23, 24, 25, 26, 27, 28, 29],\n",
       "       [30, 31, 32, 33, 34, 35, 36, 37, 38, 39],\n",
       "       [40, 41, 42, 43, 44, 45, 46, 47, 48, 49]])"
      ]
     },
     "execution_count": 49,
     "metadata": {},
     "output_type": "execute_result"
    }
   ],
   "source": [
    "a"
   ]
  },
  {
   "cell_type": "code",
   "execution_count": 50,
   "id": "9d2f22a8",
   "metadata": {},
   "outputs": [
    {
     "data": {
      "text/plain": [
       "array([ 0,  1,  2,  3,  4,  5,  6,  7,  8,  9, 10, 11, 12, 13, 14, 15, 16,\n",
       "       17, 18, 19, 20, 21, 22, 23, 24, 25, 26, 27, 28, 29, 30, 31, 32, 33,\n",
       "       34, 35, 36, 37, 38, 39, 40, 41, 42, 43, 44, 45, 46, 47, 48, 49])"
      ]
     },
     "execution_count": 50,
     "metadata": {},
     "output_type": "execute_result"
    }
   ],
   "source": [
    "ar.ravel()   ##make 1-D array"
   ]
  },
  {
   "cell_type": "code",
   "execution_count": 30,
   "id": "f754c029",
   "metadata": {},
   "outputs": [
    {
     "data": {
      "text/plain": [
       "(50,)"
      ]
     },
     "execution_count": 30,
     "metadata": {},
     "output_type": "execute_result"
    }
   ],
   "source": [
    "ar.shape                #index of arrays starts from o as always"
   ]
  },
  {
   "cell_type": "code",
   "execution_count": 31,
   "id": "a339efb3",
   "metadata": {},
   "outputs": [
    {
     "data": {
      "text/plain": [
       "array([100, 105, 110, 115, 120, 125, 130, 135, 140, 145])"
      ]
     },
     "execution_count": 31,
     "metadata": {},
     "output_type": "execute_result"
    }
   ],
   "source": [
    "a.sum(axis=0)          #addition columnwise axis=0 refer to columns"
   ]
  },
  {
   "cell_type": "code",
   "execution_count": 33,
   "id": "60c20961",
   "metadata": {},
   "outputs": [
    {
     "data": {
      "text/plain": [
       "array([ 45, 145, 245, 345, 445])"
      ]
     },
     "execution_count": 33,
     "metadata": {},
     "output_type": "execute_result"
    }
   ],
   "source": [
    "a.sum(axis=1)          #additon row-wise axis=1 refer to rows"
   ]
  },
  {
   "cell_type": "code",
   "execution_count": 36,
   "id": "c0ba857a",
   "metadata": {},
   "outputs": [],
   "source": [
    "p = np.array([[3,5,7],[8,6,7],[4,2,8]])       #arrat in matrix form"
   ]
  },
  {
   "cell_type": "code",
   "execution_count": 37,
   "id": "e11ef2d0",
   "metadata": {},
   "outputs": [
    {
     "data": {
      "text/plain": [
       "array([[3, 5, 7],\n",
       "       [8, 6, 7],\n",
       "       [4, 2, 8]])"
      ]
     },
     "execution_count": 37,
     "metadata": {},
     "output_type": "execute_result"
    }
   ],
   "source": [
    "p"
   ]
  },
  {
   "cell_type": "code",
   "execution_count": 39,
   "id": "b355430a",
   "metadata": {},
   "outputs": [
    {
     "data": {
      "text/plain": [
       "array([[3, 8, 4],\n",
       "       [5, 6, 2],\n",
       "       [7, 7, 8]])"
      ]
     },
     "execution_count": 39,
     "metadata": {},
     "output_type": "execute_result"
    }
   ],
   "source": [
    "p.T             #for Transpose"
   ]
  },
  {
   "cell_type": "code",
   "execution_count": 45,
   "id": "cba3e531",
   "metadata": {},
   "outputs": [
    {
     "name": "stdout",
     "output_type": "stream",
     "text": [
      "3\n",
      "5\n",
      "7\n",
      "8\n",
      "6\n",
      "7\n",
      "4\n",
      "2\n",
      "8\n"
     ]
    }
   ],
   "source": [
    "for i in p.flat:            #can accces each item of array\n",
    "    print(i)"
   ]
  },
  {
   "cell_type": "code",
   "execution_count": 47,
   "id": "53ea92c1",
   "metadata": {},
   "outputs": [
    {
     "data": {
      "text/plain": [
       "2"
      ]
     },
     "execution_count": 47,
     "metadata": {},
     "output_type": "execute_result"
    }
   ],
   "source": [
    "p.ndim     #shows no of Dimensions"
   ]
  },
  {
   "cell_type": "code",
   "execution_count": 48,
   "id": "e641db4e",
   "metadata": {},
   "outputs": [
    {
     "data": {
      "text/plain": [
       "36"
      ]
     },
     "execution_count": 48,
     "metadata": {},
     "output_type": "execute_result"
    }
   ],
   "source": [
    "p.nbytes   #show no of bytes"
   ]
  },
  {
   "cell_type": "code",
   "execution_count": 58,
   "id": "4634ead9",
   "metadata": {},
   "outputs": [],
   "source": [
    "o = np.array([4,57,8,34,9,3])"
   ]
  },
  {
   "cell_type": "code",
   "execution_count": 70,
   "id": "e70cda8c",
   "metadata": {},
   "outputs": [
    {
     "data": {
      "text/plain": [
       "1"
      ]
     },
     "execution_count": 70,
     "metadata": {},
     "output_type": "execute_result"
    }
   ],
   "source": [
    "o.argmax()           #gives the index which has highest value"
   ]
  },
  {
   "cell_type": "code",
   "execution_count": 60,
   "id": "6ae3de04",
   "metadata": {},
   "outputs": [
    {
     "data": {
      "text/plain": [
       "5"
      ]
     },
     "execution_count": 60,
     "metadata": {},
     "output_type": "execute_result"
    }
   ],
   "source": [
    "o.argmin()           #gives the index which has lowest value"
   ]
  },
  {
   "cell_type": "code",
   "execution_count": 63,
   "id": "6b149d62",
   "metadata": {},
   "outputs": [
    {
     "data": {
      "text/plain": [
       "array([5, 0, 2, 4, 3, 1], dtype=int64)"
      ]
     },
     "execution_count": 63,
     "metadata": {},
     "output_type": "execute_result"
    }
   ],
   "source": [
    "o.argsort()               #sort by index"
   ]
  },
  {
   "cell_type": "code",
   "execution_count": 65,
   "id": "de9a0f37",
   "metadata": {},
   "outputs": [
    {
     "data": {
      "text/plain": [
       "array([[1, 5, 3],\n",
       "       [2, 4, 7],\n",
       "       [5, 5, 5]])"
      ]
     },
     "execution_count": 65,
     "metadata": {},
     "output_type": "execute_result"
    }
   ],
   "source": [
    "array   #to display array just write name of array "
   ]
  },
  {
   "cell_type": "code",
   "execution_count": 66,
   "id": "bc9b4eac",
   "metadata": {},
   "outputs": [
    {
     "data": {
      "text/plain": [
       "array([[3, 5, 7],\n",
       "       [8, 6, 7],\n",
       "       [4, 2, 8]])"
      ]
     },
     "execution_count": 66,
     "metadata": {},
     "output_type": "execute_result"
    }
   ],
   "source": [
    "p        "
   ]
  },
  {
   "cell_type": "code",
   "execution_count": 67,
   "id": "9b3eeecb",
   "metadata": {},
   "outputs": [
    {
     "data": {
      "text/plain": [
       "array([[ 4, 10, 10],\n",
       "       [10, 10, 14],\n",
       "       [ 9,  7, 13]])"
      ]
     },
     "execution_count": 67,
     "metadata": {},
     "output_type": "execute_result"
    }
   ],
   "source": [
    "array+p                   #arrays addition "
   ]
  },
  {
   "cell_type": "code",
   "execution_count": 68,
   "id": "f9e54ce5",
   "metadata": {},
   "outputs": [
    {
     "data": {
      "text/plain": [
       "array([[ 3, 25, 21],\n",
       "       [16, 24, 49],\n",
       "       [20, 10, 40]])"
      ]
     },
     "execution_count": 68,
     "metadata": {},
     "output_type": "execute_result"
    }
   ],
   "source": [
    "p * array"
   ]
  },
  {
   "cell_type": "code",
   "execution_count": 69,
   "id": "a0754858",
   "metadata": {},
   "outputs": [
    {
     "data": {
      "text/plain": [
       "array([[1.73205081, 2.23606798, 2.64575131],\n",
       "       [2.82842712, 2.44948974, 2.64575131],\n",
       "       [2.        , 1.41421356, 2.82842712]])"
      ]
     },
     "execution_count": 69,
     "metadata": {},
     "output_type": "execute_result"
    }
   ],
   "source": [
    "np.sqrt(p)                 #takes squareroot of the values"
   ]
  },
  {
   "cell_type": "code",
   "execution_count": 71,
   "id": "14757697",
   "metadata": {},
   "outputs": [
    {
     "data": {
      "text/plain": [
       "50"
      ]
     },
     "execution_count": 71,
     "metadata": {},
     "output_type": "execute_result"
    }
   ],
   "source": [
    "p.sum()      #give sums of array"
   ]
  },
  {
   "cell_type": "code",
   "execution_count": 72,
   "id": "751f2e9f",
   "metadata": {},
   "outputs": [
    {
     "data": {
      "text/plain": [
       "2"
      ]
     },
     "execution_count": 72,
     "metadata": {},
     "output_type": "execute_result"
    }
   ],
   "source": [
    "p.min()      #give minimum value"
   ]
  },
  {
   "cell_type": "code",
   "execution_count": 73,
   "id": "63398ad1",
   "metadata": {},
   "outputs": [
    {
     "data": {
      "text/plain": [
       "8"
      ]
     },
     "execution_count": 73,
     "metadata": {},
     "output_type": "execute_result"
    }
   ],
   "source": [
    "p.max()       #give maximum value"
   ]
  },
  {
   "cell_type": "code",
   "execution_count": 77,
   "id": "cfd97c46",
   "metadata": {},
   "outputs": [
    {
     "data": {
      "text/plain": [
       "(array([1, 2], dtype=int64), array([0, 2], dtype=int64))"
      ]
     },
     "execution_count": 77,
     "metadata": {},
     "output_type": "execute_result"
    }
   ],
   "source": [
    "np.where(p > 7)        "
   ]
  },
  {
   "cell_type": "code",
   "execution_count": 78,
   "id": "e1463731",
   "metadata": {},
   "outputs": [],
   "source": [
    "p[1,0]=0           #array manipulation where p[row, column]"
   ]
  },
  {
   "cell_type": "code",
   "execution_count": 79,
   "id": "499385c2",
   "metadata": {},
   "outputs": [
    {
     "data": {
      "text/plain": [
       "array([[3, 5, 7],\n",
       "       [0, 6, 7],\n",
       "       [4, 2, 8]])"
      ]
     },
     "execution_count": 79,
     "metadata": {},
     "output_type": "execute_result"
    }
   ],
   "source": [
    "p"
   ]
  },
  {
   "cell_type": "code",
   "execution_count": 91,
   "id": "1ff2f437",
   "metadata": {},
   "outputs": [
    {
     "data": {
      "text/plain": [
       "(array([0, 0, 0, 1, 1, 2, 2, 2], dtype=int64),\n",
       " array([0, 1, 2, 1, 2, 0, 1, 2], dtype=int64))"
      ]
     },
     "execution_count": 91,
     "metadata": {},
     "output_type": "execute_result"
    }
   ],
   "source": [
    "np.nonzero(p)        #gives indexes of non-zero values"
   ]
  },
  {
   "cell_type": "code",
   "execution_count": 93,
   "id": "0dcf5aee",
   "metadata": {},
   "outputs": [
    {
     "data": {
      "text/plain": [
       "8"
      ]
     },
     "execution_count": 93,
     "metadata": {},
     "output_type": "execute_result"
    }
   ],
   "source": [
    "np.count_nonzero(p)  #counts the non-zero numbers"
   ]
  },
  {
   "cell_type": "code",
   "execution_count": 94,
   "id": "3a19c83f",
   "metadata": {},
   "outputs": [
    {
     "data": {
      "text/plain": [
       "4"
      ]
     },
     "execution_count": 94,
     "metadata": {},
     "output_type": "execute_result"
    }
   ],
   "source": [
    "p.itemsize"
   ]
  },
  {
   "cell_type": "code",
   "execution_count": 95,
   "id": "5a706f84",
   "metadata": {},
   "outputs": [
    {
     "data": {
      "text/plain": [
       "9"
      ]
     },
     "execution_count": 95,
     "metadata": {},
     "output_type": "execute_result"
    }
   ],
   "source": [
    "p.size"
   ]
  },
  {
   "cell_type": "code",
   "execution_count": 99,
   "id": "09e8aa46",
   "metadata": {},
   "outputs": [
    {
     "data": {
      "text/plain": [
       "36"
      ]
     },
     "execution_count": 99,
     "metadata": {},
     "output_type": "execute_result"
    }
   ],
   "source": [
    "p.itemsize * p.size    #it takes less memory to store datas"
   ]
  },
  {
   "cell_type": "code",
   "execution_count": 102,
   "id": "c1779b64",
   "metadata": {},
   "outputs": [
    {
     "data": {
      "text/plain": [
       "[[3, 5, 7], [0, 6, 7], [4, 2, 8]]"
      ]
     },
     "execution_count": 102,
     "metadata": {},
     "output_type": "execute_result"
    }
   ],
   "source": [
    "p.tolist()      #convesrts it to list"
   ]
  },
  {
   "cell_type": "code",
   "execution_count": 103,
   "id": "156246cc",
   "metadata": {},
   "outputs": [],
   "source": [
    "import pandas as pd\n",
    "#For more methods or attributes go to numpy"
   ]
  },
  {
   "cell_type": "code",
   "execution_count": null,
   "id": "af288ecc",
   "metadata": {},
   "outputs": [],
   "source": []
  }
 ],
 "metadata": {
  "kernelspec": {
   "display_name": "Python 3 (ipykernel)",
   "language": "python",
   "name": "python3"
  },
  "language_info": {
   "codemirror_mode": {
    "name": "ipython",
    "version": 3
   },
   "file_extension": ".py",
   "mimetype": "text/x-python",
   "name": "python",
   "nbconvert_exporter": "python",
   "pygments_lexer": "ipython3",
   "version": "3.11.4"
  }
 },
 "nbformat": 4,
 "nbformat_minor": 5
}
